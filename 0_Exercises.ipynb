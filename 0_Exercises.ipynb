{
 "cells": [
  {
   "cell_type": "markdown",
   "id": "529d91ae",
   "metadata": {},
   "source": [
    "# Exercise 00\n",
    "Write a bit of code that prints _Introduction to Programming_ to the console and execute the cell"
   ]
  },
  {
   "cell_type": "code",
   "execution_count": 1,
   "id": "98711beb",
   "metadata": {},
   "outputs": [
    {
     "name": "stdout",
     "output_type": "stream",
     "text": [
      "Introduction to Programming\n"
     ]
    }
   ],
   "source": [
    "print(\"Introduction to Programming\")"
   ]
  },
  {
   "cell_type": "markdown",
   "id": "63ad5023",
   "metadata": {},
   "source": [
    "-----------------------------------------------------------------------------\n",
    "# Exercise 01\n",
    "Hello World is traditionally the first program anyone writes. It is\n",
    "very simple and the only thing it should do is print Hello World! to the\n",
    "terminal window.\n",
    "Create a file called HelloWorld.py and edit the contents so it prints Hello World! to the terminal and execute it using the command line."
   ]
  },
  {
   "cell_type": "markdown",
   "id": "a4a7c4c2",
   "metadata": {},
   "source": [
    "-----------------------------------------------------------------------------\n",
    "# Exercise 02\n",
    "Write some code to print your name, email, and age on separate lines. For each element first assign it to a variable and use the variable to print. \n",
    "\n",
    "Bonus: try to create the print statement for all variable in one line of code. (hint: '\\n' is the character for a new line)"
   ]
  },
  {
   "cell_type": "code",
   "execution_count": 22,
   "id": "dce8973b",
   "metadata": {},
   "outputs": [
    {
     "name": "stdout",
     "output_type": "stream",
     "text": [
      "Aarya Jadhav\n",
      "2000aarya@gmail.com\n",
      "23\n"
     ]
    }
   ],
   "source": [
    "name = \"Aarya Jadhav\"\n",
    "email = \"2000aarya@gmail.com\"\n",
    "age = \"23\"\n",
    "\n",
    "print (name + '\\n' + email + '\\n' + age)\n"
   ]
  },
  {
   "cell_type": "code",
   "execution_count": 27,
   "id": "dd83c5b7",
   "metadata": {},
   "outputs": [
    {
     "name": "stdout",
     "output_type": "stream",
     "text": [
      "Name: Aarya Jadhav \n",
      "Email: 2000aarya@gmail.com \n",
      "Age: 23\n"
     ]
    }
   ],
   "source": [
    "name = \"Aarya Jadhav\"\n",
    "email = \"2000aarya@gmail.com\"\n",
    "age = \"23\"\n",
    "\n",
    "\n",
    "print (f\"Name: {name} \\nEmail: {email} \\nAge: {age}\")"
   ]
  },
  {
   "cell_type": "markdown",
   "id": "0dd1c1d1",
   "metadata": {},
   "source": [
    "-----------------------------------------------------------------------------\n",
    "# Exercise 03\n",
    "Print the numbers 0, 178, -21, 2938 divided by 49, 436 multiplied with 9948 and 12 to the power of 20\n",
    "\n",
    "(Hint: Look up the documentation of basic arithmetic operators)"
   ]
  },
  {
   "cell_type": "code",
   "execution_count": 28,
   "id": "f3d5d009",
   "metadata": {},
   "outputs": [
    {
     "name": "stdout",
     "output_type": "stream",
     "text": [
      "0\n",
      "178\n",
      "-21\n",
      "59.95918367346939\n",
      "4337328\n",
      "3833759992447475122176\n"
     ]
    }
   ],
   "source": [
    "print (0)\n",
    "print (178)\n",
    "print (-21)\n",
    "print (2938/49)\n",
    "print (436*9948)\n",
    "print (12**20)"
   ]
  },
  {
   "cell_type": "markdown",
   "id": "1f151455",
   "metadata": {},
   "source": [
    "-----------------------------------------------------------------------------\n",
    "# Exercise 04\n",
    "Print sin(200), cos(100), tan($\\pi$/4)\n",
    "\n",
    "(Hint: Look up for how to use trigonometric function, and how to get the value of $\\pi$.)"
   ]
  },
  {
   "cell_type": "code",
   "execution_count": 30,
   "id": "d0e37690",
   "metadata": {},
   "outputs": [
    {
     "name": "stdout",
     "output_type": "stream",
     "text": [
      "-0.34202014332566866\n",
      "-0.1736481776669303\n",
      "0.9999999999999999\n"
     ]
    }
   ],
   "source": [
    "from math import *\n",
    "print (sin(radians(200)))\n",
    "print (cos(radians(100)))\n",
    "print (tan(pi/4))"
   ]
  },
  {
   "cell_type": "code",
   "execution_count": 36,
   "id": "128d65d4",
   "metadata": {},
   "outputs": [
    {
     "name": "stdout",
     "output_type": "stream",
     "text": [
      "-0.34202014332566866\n",
      "-0.1736481776669303\n",
      "0.013708642534394055\n"
     ]
    }
   ],
   "source": [
    "import math\n",
    "math.pi\n",
    "print (math.sin(math.radians(200)))\n",
    "print (math.cos(math.radians(100)))\n",
    "print (math.tan(math.radians(pi/4)))"
   ]
  },
  {
   "cell_type": "markdown",
   "id": "9d026820",
   "metadata": {},
   "source": [
    "-----------------------------------------------------------------------------\n",
    "# Exercise 05\n",
    "Write a program to read your first and last names from the console seperately, and then print them on the console together, separated by a space."
   ]
  },
  {
   "cell_type": "code",
   "execution_count": 51,
   "id": "4c7217e0",
   "metadata": {},
   "outputs": [
    {
     "name": "stdout",
     "output_type": "stream",
     "text": [
      "Aarya\n",
      "Jadhav\n",
      "Aarya Jadhav\n"
     ]
    }
   ],
   "source": [
    "firstname = input()\n",
    "lastname = input()\n",
    "\n",
    "print (firstname + ' ' + lastname)\n"
   ]
  },
  {
   "cell_type": "markdown",
   "id": "e83fa346",
   "metadata": {},
   "source": [
    "-----------------------------------------------------------------------------\n",
    "# Exercise 06\n",
    "Write a program that determines whether a number given as user input is positive or negative\n",
    " \n",
    "You will need to convert the console input from a string to a number first!"
   ]
  },
  {
   "cell_type": "code",
   "execution_count": 69,
   "id": "2bab16f7",
   "metadata": {
    "scrolled": true
   },
   "outputs": [
    {
     "name": "stdout",
     "output_type": "stream",
     "text": [
      "-8\n",
      "The number is negative\n"
     ]
    }
   ],
   "source": [
    "n = float(input())\n",
    "if n > 0:\n",
    "    print (\"The number is positive\")\n",
    "elif n < 0:\n",
    "    print (\"The number is negative\")\n",
    "else:\n",
    "    print (\"The number is zero\")\n",
    "    \n",
    "    "
   ]
  },
  {
   "cell_type": "code",
   "execution_count": 70,
   "id": "0062485c",
   "metadata": {},
   "outputs": [
    {
     "name": "stdout",
     "output_type": "stream",
     "text": [
      "0\n",
      "The number is zero\n"
     ]
    }
   ],
   "source": [
    "n = float(input())\n",
    "if n > 0:\n",
    "    print (\"The number is positive\")\n",
    "elif n < 0:\n",
    "    print (\"The number is negative\")\n",
    "else:\n",
    "    print (\"The number is zero\")\n",
    "    "
   ]
  },
  {
   "cell_type": "code",
   "execution_count": 71,
   "id": "cf4b6763",
   "metadata": {},
   "outputs": [
    {
     "name": "stdout",
     "output_type": "stream",
     "text": [
      "6\n",
      "The number is positive\n"
     ]
    }
   ],
   "source": [
    "n = float(input())\n",
    "if n > 0:\n",
    "    print (\"The number is positive\")\n",
    "elif n < 0:\n",
    "    print (\"The number is negative\")\n",
    "else:\n",
    "    print (\"The number is zero\")\n",
    "    \n",
    "    "
   ]
  },
  {
   "cell_type": "markdown",
   "id": "2a192596",
   "metadata": {},
   "source": [
    "-----------------------------------------------------------------------------\n",
    "# Exercise 07\n",
    "Write a program that picks a random number between 1-20 and makes the user guess until they get the number right. Then print a congratulations message\n",
    "- (Find out yourself how to generate a random integer)\n",
    "- Bonus: make the user choose the range within which they have to guess\n",
    "- Bonus: keep track of how many guesses were made and print this at the end"
   ]
  },
  {
   "cell_type": "code",
   "execution_count": 91,
   "id": "000fc677",
   "metadata": {
    "scrolled": true
   },
   "outputs": [
    {
     "name": "stdout",
     "output_type": "stream",
     "text": [
      " Guess a number between 1-20 2\n",
      "try again\n",
      " Guess a number between 1-20 3\n",
      "try again\n",
      " Guess a number between 1-20 4\n",
      "try again\n",
      " Guess a number between 1-20 5\n",
      "try again\n",
      " Guess a number between 1-20 1\n",
      "try again\n",
      " Guess a number between 1-20 6\n",
      "try again\n",
      " Guess a number between 1-20 7\n",
      "try again\n",
      " Guess a number between 1-20 8\n",
      "try again\n",
      " Guess a number between 1-20 9\n",
      "try again\n",
      " Guess a number between 1-20 10\n",
      "try again\n",
      " Guess a number between 1-20 11\n",
      "try again\n",
      " Guess a number between 1-20 12\n",
      "try again\n",
      " Guess a number between 1-20 13\n",
      "try again\n",
      " Guess a number between 1-20 14\n",
      "Congratulations!\n"
     ]
    }
   ],
   "source": [
    "import random\n",
    "num = random.randint(1,20)\n",
    "while True:\n",
    "    user_input = int(input(\" Guess a number between 1-20 \"))\n",
    "    if user_input == num:\n",
    "        print(\"Congratulations!\")\n",
    "        break\n",
    "    else:\n",
    "        print(\"try again\")"
   ]
  },
  {
   "cell_type": "markdown",
   "id": "d53b9c07",
   "metadata": {},
   "source": [
    "# -----------------------------------------------------------------------------\n",
    "# Exercise 08\n",
    "Ask a sentence as input, then print the words in alphabetical order.\n",
    "Hint: look up how to split up a string"
   ]
  },
  {
   "cell_type": "code",
   "execution_count": 93,
   "id": "150e6c88",
   "metadata": {},
   "outputs": [
    {
     "name": "stdout",
     "output_type": "stream",
     "text": [
      "My name is Aarya\n",
      "['Aarya', 'My', 'is', 'name']\n"
     ]
    }
   ],
   "source": [
    "sentence = input()\n",
    "words = sentence.split(' ')\n",
    "words.sort()\n",
    "print(words)\n"
   ]
  },
  {
   "cell_type": "markdown",
   "id": "09a7b060",
   "metadata": {},
   "source": [
    "-----------------------------------------------------------------------------\n",
    "# Exercise 09\n",
    "Write a program using for loops to print a christmas tree of x lines high\n",
    "specified by the user.\n",
    "(use for loops)\n",
    "so for instance, a chrismas tree of 4 high should looks like this:\n",
    "\n",
    "```\n",
    "\n",
    "    *\n",
    "   ***\n",
    "  *****\n",
    " *******\n",
    "    |\n",
    "\n",
    "```\n",
    "\n",
    "hint: first combine strings into a variable before printing"
   ]
  },
  {
   "cell_type": "code",
   "execution_count": null,
   "id": "5150f7a4",
   "metadata": {},
   "outputs": [],
   "source": [
    "\n",
    "\n",
    "\n"
   ]
  },
  {
   "cell_type": "markdown",
   "id": "07f67531",
   "metadata": {},
   "source": [
    "-----------------------------------------------------------------------------\n",
    "# Exercise 10\n",
    "Write a piece of code that prints the first $n$ numbers of the padovan sequence"
   ]
  },
  {
   "cell_type": "code",
   "execution_count": 98,
   "id": "d301c61b",
   "metadata": {
    "scrolled": true
   },
   "outputs": [
    {
     "name": "stdout",
     "output_type": "stream",
     "text": [
      "Enter the number of Padovan sequence numbers you want to print: 40\n",
      "Padovan Sequence:\n",
      "[1, 1, 1, 2, 2, 3, 4, 5, 7, 9, 12, 16, 21, 28, 37, 49, 65, 86, 114, 151, 200, 265, 351, 465, 616, 816, 1081, 1432, 1897, 2513, 3329, 4410, 5842, 7739, 10252, 13581, 17991, 23833, 31572, 41824]\n"
     ]
    }
   ],
   "source": [
    "def padovan_sequence(n):\n",
    "    if n <= 2:\n",
    "        return [1] * n\n",
    "    padovan = [1, 1, 1]\n",
    "    for i in range(3, n):\n",
    "        next_value = padovan[i - 2] + padovan[i - 3]\n",
    "        padovan.append(next_value)\n",
    "\n",
    "    return padovan\n",
    "n = int(input(\"Enter the number of Padovan sequence numbers you want to print: \"))\n",
    "if n < 0:\n",
    "    print(\"Please enter a non-negative integer.\")\n",
    "else:\n",
    "    result = padovan_sequence(n)\n",
    "    print(\"Padovan Sequence:\")\n",
    "    print(result)\n",
    "\n",
    "    "
   ]
  },
  {
   "cell_type": "code",
   "execution_count": null,
   "id": "18dc4d0a",
   "metadata": {},
   "outputs": [],
   "source": []
  }
 ],
 "metadata": {
  "kernelspec": {
   "display_name": "Python 3 (ipykernel)",
   "language": "python",
   "name": "python3"
  },
  "language_info": {
   "codemirror_mode": {
    "name": "ipython",
    "version": 3
   },
   "file_extension": ".py",
   "mimetype": "text/x-python",
   "name": "python",
   "nbconvert_exporter": "python",
   "pygments_lexer": "ipython3",
   "version": "3.8.18"
  }
 },
 "nbformat": 4,
 "nbformat_minor": 5
}
